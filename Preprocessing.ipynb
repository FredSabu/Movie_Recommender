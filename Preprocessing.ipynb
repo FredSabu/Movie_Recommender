{
 "cells": [
  {
   "cell_type": "code",
   "execution_count": 4,
   "id": "c2a13af1",
   "metadata": {},
   "outputs": [],
   "source": [
    "import pandas as pd\n",
    "import re"
   ]
  },
  {
   "cell_type": "code",
   "execution_count": 9,
   "id": "cc6649ab",
   "metadata": {},
   "outputs": [],
   "source": [
    "def rearrange_title(title):\n",
    "    # Regex to identify titles with multiple parentheses and reorder them\n",
    "    complex_pattern = re.compile(r'^(.*),\\s*(The|A|An|Les)\\s*\\(([^)]+)\\)\\s*\\((\\d{4})\\)$')\n",
    "    simple_pattern = re.compile(r'^(.*),\\s*(The|A|An|Les)\\s*(\\(\\d{4}\\))$')\n",
    "\n",
    "    complex_match = complex_pattern.match(title)\n",
    "    simple_match = simple_pattern.match(title)\n",
    "\n",
    "    if complex_match:\n",
    "        base_title = complex_match.group(1)\n",
    "        prefix = complex_match.group(2)\n",
    "        year = complex_match.group(4)\n",
    "        return f\"{prefix} {base_title} ({year})\"\n",
    "    elif simple_match:\n",
    "        base_title = simple_match.group(1)\n",
    "        prefix = simple_match.group(2)\n",
    "        year = simple_match.group(3)\n",
    "        return f\"{prefix} {base_title} {year}\"\n",
    "    else:\n",
    "        return title\n",
    "\n",
    "def extract_year_and_clean_title(title):\n",
    "    # Regular expression to find the year and any additional details in the title\n",
    "    year_pattern = re.compile(r'\\((\\d{4})\\)$')\n",
    "    extra_details_pattern = re.compile(r'\\s*\\([^)]+\\)\\s*')\n",
    "\n",
    "    # Extract the year\n",
    "    year_match = year_pattern.search(title)\n",
    "    if year_match:\n",
    "        year = year_match.group(1)\n",
    "        # Remove the year from the title\n",
    "        title = year_pattern.sub('', title)\n",
    "    else:\n",
    "        year = None\n",
    "\n",
    "    # Remove any additional details from the title\n",
    "    title = extra_details_pattern.sub('', title).strip()\n",
    "\n",
    "    return title, year\n",
    "\n"
   ]
  },
  {
   "cell_type": "code",
   "execution_count": 11,
   "id": "bb09ece9",
   "metadata": {},
   "outputs": [
    {
     "name": "stdout",
     "output_type": "stream",
     "text": [
      "Dataset saved to ml-25m/movies2.csv\n"
     ]
    }
   ],
   "source": [
    "def preprocess_movie_dataset(file_path, output_path):\n",
    "    # Load the dataset\n",
    "    movies_df = pd.read_csv(file_path)\n",
    "\n",
    "    # Apply the function to rearrange titles first\n",
    "    movies_df['title'] = movies_df['title'].apply(rearrange_title)\n",
    "\n",
    "    # Apply the function to extract year and clean the title\n",
    "    new_data = movies_df['title'].apply(lambda x: pd.Series(extract_year_and_clean_title(x), index=['title', 'year']))\n",
    "\n",
    "    # Assign the cleaned titles and year to the dataframe\n",
    "    movies_df['title'] = new_data['title']\n",
    "    movies_df['year'] = new_data['year']\n",
    "    \n",
    "    movies_df['genres'] = movies_df['genres'].apply(lambda x: x.split('|'))\n",
    "\n",
    "    # Save the preprocessed dataset\n",
    "    movies_df.to_csv(output_path, index=False)\n",
    "    print(\"Dataset saved to\", output_path)\n",
    "\n",
    "# Set the path to your original dataset\n",
    "input_file_path = 'ml-25m/movies.csv'\n",
    "output_file_path = 'ml-25m/movies2.csv'\n",
    "\n",
    "# Run the preprocessing function\n",
    "preprocess_movie_dataset(input_file_path, output_file_path)"
   ]
  },
  {
   "cell_type": "code",
   "execution_count": 3,
   "id": "30b322ea",
   "metadata": {},
   "outputs": [
    {
     "name": "stdout",
     "output_type": "stream",
     "text": [
      "Links DataFrame Columns: Index(['movieId', 'imdbId', 'tmdbId'], dtype='object')\n",
      "Movies2 DataFrame Columns: Index(['movieId', 'title', 'genres', 'year'], dtype='object')\n",
      "done\n"
     ]
    }
   ],
   "source": [
    "import pandas as pd\n",
    "\n",
    "# Load the CSV files into Pandas DataFrames\n",
    "links_df = pd.read_csv('ml-25m/links.csv')\n",
    "movies2_df = pd.read_csv('ml-25m/movies2.csv')\n",
    "\n",
    "# Print column names to verify\n",
    "print(\"Links DataFrame Columns:\", links_df.columns)\n",
    "print(\"Movies2 DataFrame Columns:\", movies2_df.columns)\n",
    "\n",
    "# Check if 'imdbId' is in links_df and 'movieId' is in both\n",
    "if 'imdbId' in links_df.columns and 'movieId' in links_df.columns and 'movieId' in movies2_df.columns:\n",
    "    # Merge the dataframes on the 'movieId' column\n",
    "    merged_df = pd.merge(movies2_df, links_df[['movieId', 'imdbId']], on='movieId', how='left')\n",
    "\n",
    "    # Save the merged dataframe to a new CSV file\n",
    "    merged_df.to_csv('movies3.csv', index=False)\n",
    "    print(\"done\")\n",
    "else:\n",
    "    print(\"Error: Necessary columns not found in dataframes.\")\n"
   ]
  },
  {
   "cell_type": "code",
   "execution_count": 6,
   "id": "a0c711fe",
   "metadata": {},
   "outputs": [
    {
     "name": "stdout",
     "output_type": "stream",
     "text": [
      "      imdbId\n",
      "0  tt0114709\n",
      "1  tt0113497\n",
      "2  tt0113228\n",
      "3  tt0114885\n",
      "4  tt0113041\n"
     ]
    }
   ],
   "source": [
    "import pandas as pd\n",
    "\n",
    "def format_imdb_id(num_id):\n",
    "    # Formats the number as an IMDb ID with the 'tt' prefix and zero-padding\n",
    "    formatted_id = f'tt{num_id:07d}'\n",
    "    return formatted_id\n",
    "\n",
    "# Load the CSV file into a DataFrame\n",
    "movies_df = pd.read_csv('ml-25m/movies3.csv', header=0)\n",
    "\n",
    "# Strip any whitespace from column headers\n",
    "movies_df.columns = movies_df.columns.str.strip()\n",
    "\n",
    "# Apply the formatting function to the 'imdbId' column and replace it\n",
    "movies_df['imdbId'] = movies_df['imdbId'].apply(format_imdb_id)\n",
    "\n",
    "# Save the DataFrame back to the same CSV file or to a new file if preferred\n",
    "movies_df.to_csv('ml-25m/movies4.csv', index=False)  # Overwrites the original file\n",
    "\n",
    "# Optionally print the first few rows to verify the changes\n",
    "print(movies_df[['imdbId']].head())\n"
   ]
  },
  {
   "cell_type": "code",
   "execution_count": null,
   "id": "58c17578",
   "metadata": {},
   "outputs": [],
   "source": []
  }
 ],
 "metadata": {
  "kernelspec": {
   "display_name": "Python 3 (ipykernel)",
   "language": "python",
   "name": "python3"
  },
  "language_info": {
   "codemirror_mode": {
    "name": "ipython",
    "version": 3
   },
   "file_extension": ".py",
   "mimetype": "text/x-python",
   "name": "python",
   "nbconvert_exporter": "python",
   "pygments_lexer": "ipython3",
   "version": "3.11.4"
  }
 },
 "nbformat": 4,
 "nbformat_minor": 5
}
