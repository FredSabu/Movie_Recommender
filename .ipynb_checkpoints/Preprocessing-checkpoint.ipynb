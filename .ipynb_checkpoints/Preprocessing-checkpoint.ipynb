{
 "cells": [
  {
   "cell_type": "code",
   "execution_count": 1,
   "id": "c2a13af1",
   "metadata": {},
   "outputs": [],
   "source": [
    "import pandas as pd\n",
    "import re"
   ]
  },
  {
   "cell_type": "code",
   "execution_count": 2,
   "id": "cc6649ab",
   "metadata": {},
   "outputs": [],
   "source": [
    "def rearrange_title(title):\n",
    "    # Regex to identify titles with multiple parentheses and reorder them\n",
    "    complex_pattern = re.compile(r'^(.*),\\s*(The|A|An|Les)\\s*\\(([^)]+)\\)\\s*\\((\\d{4})\\)$')\n",
    "    simple_pattern = re.compile(r'^(.*),\\s*(The|A|An|Les)\\s*(\\(\\d{4}\\))$')\n",
    "\n",
    "    complex_match = complex_pattern.match(title)\n",
    "    simple_match = simple_pattern.match(title)\n",
    "\n",
    "    if complex_match:\n",
    "        base_title = complex_match.group(1)\n",
    "        prefix = complex_match.group(2)\n",
    "        year = complex_match.group(4)\n",
    "        return f\"{prefix} {base_title} ({year})\"\n",
    "    elif simple_match:\n",
    "        base_title = simple_match.group(1)\n",
    "        prefix = simple_match.group(2)\n",
    "        year = simple_match.group(3)\n",
    "        return f\"{prefix} {base_title} {year}\"\n",
    "    else:\n",
    "        return title\n",
    "\n",
    "def extract_year_and_clean_title(title):\n",
    "    # Regular expression to find the year and any additional details in the title\n",
    "    year_pattern = re.compile(r'\\((\\d{4})\\)$')\n",
    "    extra_details_pattern = re.compile(r'\\s*\\([^)]+\\)\\s*')\n",
    "\n",
    "    # Extract the year\n",
    "    year_match = year_pattern.search(title)\n",
    "    if year_match:\n",
    "        year = year_match.group(1)\n",
    "        # Remove the year from the title\n",
    "        title = year_pattern.sub('', title)\n",
    "    else:\n",
    "        year = None\n",
    "\n",
    "    # Remove any additional details from the title\n",
    "    title = extra_details_pattern.sub('', title).strip()\n",
    "\n",
    "    return title, year\n",
    "\n"
   ]
  },
  {
   "cell_type": "code",
   "execution_count": 3,
   "id": "bb09ece9",
   "metadata": {},
   "outputs": [
    {
     "name": "stdout",
     "output_type": "stream",
     "text": [
      "Dataset saved to ml-25m/movies1.csv\n"
     ]
    }
   ],
   "source": [
    "def preprocess_movie_dataset(file_path, output_path):\n",
    "    # Load the dataset\n",
    "    movies_df = pd.read_csv(file_path)\n",
    "\n",
    "    # Apply the function to rearrange titles first\n",
    "    movies_df['title'] = movies_df['title'].apply(rearrange_title)\n",
    "\n",
    "    # Apply the function to extract year and clean the title\n",
    "    new_data = movies_df['title'].apply(lambda x: pd.Series(extract_year_and_clean_title(x), index=['title', 'year']))\n",
    "\n",
    "    # Assign the cleaned titles and year to the dataframe\n",
    "    movies_df['title'] = new_data['title']\n",
    "    movies_df['year'] = new_data['year']\n",
    "\n",
    "    # Save the preprocessed dataset\n",
    "    movies_df.to_csv(output_path, index=False)\n",
    "    print(\"Dataset saved to\", output_path)\n",
    "\n",
    "# Set the path to your original dataset\n",
    "input_file_path = 'ml-25m/movies.csv'\n",
    "output_file_path = 'ml-25m/movies1.csv'\n",
    "\n",
    "# Run the preprocessing function\n",
    "preprocess_movie_dataset(input_file_path, output_file_path)"
   ]
  },
  {
   "cell_type": "code",
   "execution_count": null,
   "id": "30b322ea",
   "metadata": {},
   "outputs": [],
   "source": []
  }
 ],
 "metadata": {
  "kernelspec": {
   "display_name": "Python 3 (ipykernel)",
   "language": "python",
   "name": "python3"
  },
  "language_info": {
   "codemirror_mode": {
    "name": "ipython",
    "version": 3
   },
   "file_extension": ".py",
   "mimetype": "text/x-python",
   "name": "python",
   "nbconvert_exporter": "python",
   "pygments_lexer": "ipython3",
   "version": "3.11.4"
  }
 },
 "nbformat": 4,
 "nbformat_minor": 5
}
