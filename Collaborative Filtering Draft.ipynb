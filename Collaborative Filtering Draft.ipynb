{
 "cells": [
  {
   "cell_type": "markdown",
   "id": "01d78a18",
   "metadata": {},
   "source": [
    "# Importing Dependencies"
   ]
  },
  {
   "cell_type": "code",
   "execution_count": 34,
   "id": "b05fa77a",
   "metadata": {},
   "outputs": [],
   "source": [
    "import numpy as np\n",
    "import pandas as pd\n",
    "from scipy.sparse import csr_matrix\n",
    "from sklearn.neighbors import NearestNeighbors"
   ]
  },
  {
   "cell_type": "markdown",
   "id": "b53e9ac1",
   "metadata": {},
   "source": [
    "# Loading the Data "
   ]
  },
  {
   "cell_type": "code",
   "execution_count": 26,
   "id": "0066ec49",
   "metadata": {},
   "outputs": [],
   "source": [
    "ratings = pd.read_csv(\"ml-25m/ratings.csv\")\n",
    "movies = pd.read_csv(\"ml-25m/movies.csv\")"
   ]
  },
  {
   "cell_type": "markdown",
   "id": "2b561d98",
   "metadata": {},
   "source": [
    "## Bayesian Average"
   ]
  },
  {
   "cell_type": "code",
   "execution_count": 27,
   "id": "7c82b1aa",
   "metadata": {},
   "outputs": [
    {
     "data": {
      "text/html": [
       "<div>\n",
       "<style scoped>\n",
       "    .dataframe tbody tr th:only-of-type {\n",
       "        vertical-align: middle;\n",
       "    }\n",
       "\n",
       "    .dataframe tbody tr th {\n",
       "        vertical-align: top;\n",
       "    }\n",
       "\n",
       "    .dataframe thead th {\n",
       "        text-align: right;\n",
       "    }\n",
       "</style>\n",
       "<table border=\"1\" class=\"dataframe\">\n",
       "  <thead>\n",
       "    <tr style=\"text-align: right;\">\n",
       "      <th></th>\n",
       "      <th>movieId</th>\n",
       "      <th>count</th>\n",
       "      <th>mean</th>\n",
       "      <th>bayesian_avg</th>\n",
       "      <th>title</th>\n",
       "    </tr>\n",
       "  </thead>\n",
       "  <tbody>\n",
       "    <tr>\n",
       "      <th>314</th>\n",
       "      <td>318</td>\n",
       "      <td>81482</td>\n",
       "      <td>4.413576</td>\n",
       "      <td>4.407</td>\n",
       "      <td>Shawshank Redemption, The (1994)</td>\n",
       "    </tr>\n",
       "    <tr>\n",
       "      <th>840</th>\n",
       "      <td>858</td>\n",
       "      <td>52498</td>\n",
       "      <td>4.324336</td>\n",
       "      <td>4.314</td>\n",
       "      <td>Godfather, The (1972)</td>\n",
       "    </tr>\n",
       "    <tr>\n",
       "      <th>49</th>\n",
       "      <td>50</td>\n",
       "      <td>55366</td>\n",
       "      <td>4.284353</td>\n",
       "      <td>4.275</td>\n",
       "      <td>Usual Suspects, The (1995)</td>\n",
       "    </tr>\n",
       "    <tr>\n",
       "      <th>1190</th>\n",
       "      <td>1221</td>\n",
       "      <td>34188</td>\n",
       "      <td>4.261759</td>\n",
       "      <td>4.247</td>\n",
       "      <td>Godfather: Part II, The (1974)</td>\n",
       "    </tr>\n",
       "    <tr>\n",
       "      <th>522</th>\n",
       "      <td>527</td>\n",
       "      <td>60411</td>\n",
       "      <td>4.247579</td>\n",
       "      <td>4.239</td>\n",
       "      <td>Schindler's List (1993)</td>\n",
       "    </tr>\n",
       "    <tr>\n",
       "      <th>...</th>\n",
       "      <td>...</td>\n",
       "      <td>...</td>\n",
       "      <td>...</td>\n",
       "      <td>...</td>\n",
       "      <td>...</td>\n",
       "    </tr>\n",
       "    <tr>\n",
       "      <th>9603</th>\n",
       "      <td>31698</td>\n",
       "      <td>633</td>\n",
       "      <td>1.232227</td>\n",
       "      <td>1.969</td>\n",
       "      <td>Son of the Mask (2005)</td>\n",
       "    </tr>\n",
       "    <tr>\n",
       "      <th>11349</th>\n",
       "      <td>50798</td>\n",
       "      <td>1180</td>\n",
       "      <td>1.457203</td>\n",
       "      <td>1.883</td>\n",
       "      <td>Epic Movie (2007)</td>\n",
       "    </tr>\n",
       "    <tr>\n",
       "      <th>6464</th>\n",
       "      <td>6587</td>\n",
       "      <td>758</td>\n",
       "      <td>1.214380</td>\n",
       "      <td>1.880</td>\n",
       "      <td>Gigli (2003)</td>\n",
       "    </tr>\n",
       "    <tr>\n",
       "      <th>4669</th>\n",
       "      <td>4775</td>\n",
       "      <td>669</td>\n",
       "      <td>1.125561</td>\n",
       "      <td>1.880</td>\n",
       "      <td>Glitter (2001)</td>\n",
       "    </tr>\n",
       "    <tr>\n",
       "      <th>3494</th>\n",
       "      <td>3593</td>\n",
       "      <td>4268</td>\n",
       "      <td>1.578374</td>\n",
       "      <td>1.713</td>\n",
       "      <td>Battlefield Earth (2000)</td>\n",
       "    </tr>\n",
       "  </tbody>\n",
       "</table>\n",
       "<p>59047 rows × 5 columns</p>\n",
       "</div>"
      ],
      "text/plain": [
       "       movieId  count      mean  bayesian_avg  \\\n",
       "314        318  81482  4.413576         4.407   \n",
       "840        858  52498  4.324336         4.314   \n",
       "49          50  55366  4.284353         4.275   \n",
       "1190      1221  34188  4.261759         4.247   \n",
       "522        527  60411  4.247579         4.239   \n",
       "...        ...    ...       ...           ...   \n",
       "9603     31698    633  1.232227         1.969   \n",
       "11349    50798   1180  1.457203         1.883   \n",
       "6464      6587    758  1.214380         1.880   \n",
       "4669      4775    669  1.125561         1.880   \n",
       "3494      3593   4268  1.578374         1.713   \n",
       "\n",
       "                                  title  \n",
       "314    Shawshank Redemption, The (1994)  \n",
       "840               Godfather, The (1972)  \n",
       "49           Usual Suspects, The (1995)  \n",
       "1190     Godfather: Part II, The (1974)  \n",
       "522             Schindler's List (1993)  \n",
       "...                                 ...  \n",
       "9603             Son of the Mask (2005)  \n",
       "11349                 Epic Movie (2007)  \n",
       "6464                       Gigli (2003)  \n",
       "4669                     Glitter (2001)  \n",
       "3494           Battlefield Earth (2000)  \n",
       "\n",
       "[59047 rows x 5 columns]"
      ]
     },
     "execution_count": 27,
     "metadata": {},
     "output_type": "execute_result"
    }
   ],
   "source": [
    "movie_stats = ratings.groupby('movieId')['rating'].agg(['count', 'mean'])\n",
    "C = movie_stats['count'].mean()\n",
    "m = movie_stats['mean'].mean()\n",
    "\n",
    "def bayesian_avg(ratings):\n",
    "    bayesian_avg = (C*m+ratings.sum())/(C+ratings.count())\n",
    "    return round(bayesian_avg, 3)\n",
    "\n",
    "bayesian_avg_ratings = ratings.groupby('movieId')['rating'].agg(bayesian_avg).reset_index()\n",
    "bayesian_avg_ratings.columns = ['movieId', 'bayesian_avg']\n",
    "movie_stats = movie_stats.merge(bayesian_avg_ratings, on='movieId')\n",
    "\n",
    "movie_stats = movie_stats.merge(movies[['movieId', 'title']])\n",
    "movie_stats.sort_values(by='bayesian_avg', ascending=False)"
   ]
  },
  {
   "cell_type": "markdown",
   "id": "3286225c",
   "metadata": {},
   "source": [
    "# Dealing with the genres column"
   ]
  },
  {
   "cell_type": "code",
   "execution_count": 28,
   "id": "dd7a8383",
   "metadata": {},
   "outputs": [],
   "source": [
    "movies['genres'] = movies['genres'].apply(lambda x: x.split('|'))"
   ]
  },
  {
   "cell_type": "markdown",
   "id": "f9f6918b",
   "metadata": {},
   "source": [
    "# Colaborative Filtering"
   ]
  },
  {
   "cell_type": "code",
   "execution_count": 29,
   "id": "671ded41",
   "metadata": {},
   "outputs": [],
   "source": [
    "def create_matrix(df):\n",
    "  \n",
    "    unique_users = df['userId'].nunique()\n",
    "    unique_movies = df['movieId'].nunique()\n",
    "\n",
    "    user_mapper = dict(zip(np.unique(df[\"userId\"]), list(range(unique_users))))\n",
    "    movie_mapper = dict(zip(np.unique(df[\"movieId\"]), list(range(unique_movies))))\n",
    "    \n",
    "    user_inv_mapper = dict(zip(list(range(unique_users)), np.unique(df[\"userId\"])))\n",
    "    movie_inv_mapper = dict(zip(list(range(unique_movies)), np.unique(df[\"movieId\"])))\n",
    "    \n",
    "    user_index = [user_mapper[i] for i in df['userId']]\n",
    "    item_index = [movie_mapper[i] for i in df['movieId']]\n",
    "\n",
    "    matrix = csr_matrix((df[\"rating\"], (user_index,item_index)), shape=(unique_users,unique_movies))\n",
    "    \n",
    "    return matrix, user_mapper, movie_mapper, user_inv_mapper, movie_inv_mapper\n",
    "\n",
    "matrix, user_mapper, movie_mapper, user_inv_mapper, movie_inv_mapper = create_matrix(ratings)"
   ]
  },
  {
   "cell_type": "code",
   "execution_count": 30,
   "id": "20e19e0c",
   "metadata": {},
   "outputs": [
    {
     "data": {
      "text/plain": [
       "(162541, 59047)"
      ]
     },
     "execution_count": 30,
     "metadata": {},
     "output_type": "execute_result"
    }
   ],
   "source": [
    "matrix.shape"
   ]
  },
  {
   "cell_type": "markdown",
   "id": "43c338c6",
   "metadata": {},
   "source": [
    "# Item-Item Colaborative Filtering with K-nearest Neighbors"
   ]
  },
  {
   "cell_type": "code",
   "execution_count": 31,
   "id": "af45bcbc",
   "metadata": {},
   "outputs": [],
   "source": [
    "def find_similar_movies(movie_id, matrix, movie_mapper, movie_inv_mapper, k, metric='cosine'):\n",
    "  \n",
    "    matrix = matrix.T\n",
    "    neighbour_ids = []\n",
    "    \n",
    "    movie_ind = movie_mapper[movie_id]\n",
    "    movie_vec = matrix[movie_ind]\n",
    "    if isinstance(movie_vec, (np.ndarray)):\n",
    "        movie_vec = movie_vec.reshape(1,-1)\n",
    "    kNN = NearestNeighbors(n_neighbors=k+1, algorithm=\"brute\", metric=metric)\n",
    "    kNN.fit(matrix)\n",
    "    neighbour = kNN.kneighbors(movie_vec, return_distance=False)\n",
    "    for i in range(0,k):\n",
    "        n = neighbour.item(i)\n",
    "        neighbour_ids.append(movie_inv_mapper[n])\n",
    "    neighbour_ids.pop(0)\n",
    "    return neighbour_ids"
   ]
  },
  {
   "cell_type": "code",
   "execution_count": 32,
   "id": "05447cce",
   "metadata": {},
   "outputs": [
    {
     "name": "stdout",
     "output_type": "stream",
     "text": [
      "Because you watched Toy Story (1995):\n",
      " \n",
      "Star Wars: Episode IV - A New Hope (1977)\n",
      "Toy Story 2 (1999)\n",
      "Back to the Future (1985)\n",
      "Forrest Gump (1994)\n",
      "Jurassic Park (1993)\n",
      "Star Wars: Episode VI - Return of the Jedi (1983)\n",
      "Independence Day (a.k.a. ID4) (1996)\n",
      "Lion King, The (1994)\n",
      "Aladdin (1992)\n"
     ]
    }
   ],
   "source": [
    "movie_titles = dict(zip(movies['movieId'], movies['title']))\n",
    "\n",
    "movie_id = 1\n",
    "\n",
    "similar_movies = find_similar_movies(movie_id, matrix, movie_mapper, movie_inv_mapper, metric='cosine', k=10)\n",
    "movie_title = movie_titles[movie_id]\n",
    "print(f\"Because you watched {movie_title}:\")\n",
    "print(\" \")\n",
    "for i in similar_movies:\n",
    "    print(movie_titles[i])"
   ]
  },
  {
   "cell_type": "code",
   "execution_count": 33,
   "id": "6b28891a",
   "metadata": {},
   "outputs": [
    {
     "name": "stdout",
     "output_type": "stream",
     "text": [
      "toy stori\n",
      "Because you watched Toy Story (1995):\n",
      "\n",
      "Star Wars: Episode IV - A New Hope (1977)\n",
      "Toy Story 2 (1999)\n",
      "Back to the Future (1985)\n",
      "Forrest Gump (1994)\n",
      "Jurassic Park (1993)\n",
      "Star Wars: Episode VI - Return of the Jedi (1983)\n",
      "Independence Day (a.k.a. ID4) (1996)\n",
      "Lion King, The (1994)\n",
      "Aladdin (1992)\n"
     ]
    }
   ],
   "source": [
    "from fuzzywuzzy import process\n",
    "\n",
    "def movie_finder(title, movies_df):\n",
    "    all_titles = movies_df['title'].tolist()\n",
    "    closest_match = process.extractOne(title, all_titles)\n",
    "    matched_title = closest_match[0]  # Get the best match title\n",
    "    matched_id = movies_df[movies_df['title'] == matched_title]['movieId'].iloc[0]  # Get the corresponding movie ID\n",
    "    return matched_id, matched_title\n",
    "\n",
    "\n",
    "movie_input = input(\"\")\n",
    "\n",
    "matched_id, matched_title = movie_finder(movie_input, movies)\n",
    "\n",
    "# Now use the matched movie ID to find similar movies\n",
    "similar_movies_ids = find_similar_movies(matched_id, matrix, movie_mapper, movie_inv_mapper, k=10)\n",
    "\n",
    "print(f\"Because you watched {matched_title}:\")\n",
    "print(\"\")\n",
    "for movie_id in similar_movies_ids:\n",
    "    print(movie_titles[movie_id])\n"
   ]
  },
  {
   "cell_type": "code",
   "execution_count": null,
   "id": "6dbce65d",
   "metadata": {},
   "outputs": [],
   "source": []
  }
 ],
 "metadata": {
  "kernelspec": {
   "display_name": "Python 3 (ipykernel)",
   "language": "python",
   "name": "python3"
  },
  "language_info": {
   "codemirror_mode": {
    "name": "ipython",
    "version": 3
   },
   "file_extension": ".py",
   "mimetype": "text/x-python",
   "name": "python",
   "nbconvert_exporter": "python",
   "pygments_lexer": "ipython3",
   "version": "3.11.4"
  }
 },
 "nbformat": 4,
 "nbformat_minor": 5
}
